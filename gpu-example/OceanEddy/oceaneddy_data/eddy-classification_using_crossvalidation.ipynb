{
 "cells": [
  {
   "cell_type": "code",
   "execution_count": 5,
   "id": "4cd86ee6",
   "metadata": {},
   "outputs": [],
   "source": [
    "import os\n",
    "import numpy as np\n",
    "import pandas as pd\n",
    "import matplotlib.pyplot as plt\n",
    "from sklearn.model_selection import KFold, StratifiedKFold\n",
    "import tensorflow as tf\n",
    "from keras.preprocessing.image import ImageDataGenerator\n",
    "from tensorflow.keras import datasets, layers, models\n",
    "from tensorflow.keras.utils import plot_model"
   ]
  },
  {
   "cell_type": "code",
   "execution_count": 6,
   "id": "2f542e07",
   "metadata": {},
   "outputs": [],
   "source": [
    "!aws s3 cp s3://ocean-eddy-data-nasa/oceaneddy_data/ data --recursive\n",
    "# print(os.path.abspath(os.getcwd()))"
   ]
  },
  {
   "cell_type": "code",
   "execution_count": 7,
   "id": "ea87a3a7",
   "metadata": {},
   "outputs": [
    {
     "name": "stdout",
     "output_type": "stream",
     "text": [
      "/home/ec2-user/SageMaker/data\n"
     ]
    }
   ],
   "source": [
    "data_path = ('data')\n",
    "os.chdir(data_path)\n",
    "print(os.path.abspath(os.getcwd()))"
   ]
  },
  {
   "cell_type": "code",
   "execution_count": 8,
   "id": "0062865b",
   "metadata": {},
   "outputs": [],
   "source": [
    "train_file = 'label.csv'\n",
    "train_data = pd.read_csv(train_file)"
   ]
  },
  {
   "cell_type": "code",
   "execution_count": 9,
   "id": "d46491f3",
   "metadata": {},
   "outputs": [],
   "source": [
    "# print(train_data)"
   ]
  },
  {
   "cell_type": "code",
   "execution_count": 10,
   "id": "dec953d4",
   "metadata": {},
   "outputs": [],
   "source": [
    "x = train_data[\"label\"].value_counts()\n",
    "# print(x)\n",
    "last = x.index[-1]\n",
    "first = x.index[0]\n",
    "x = x.rename(index={last: 'noneddy'})\n",
    "x = x.rename(index={first: 'eddy'})\n",
    "# print(x)"
   ]
  },
  {
   "cell_type": "code",
   "execution_count": 11,
   "id": "6af47ebb",
   "metadata": {},
   "outputs": [
    {
     "data": {
      "text/plain": [
       "<AxesSubplot:title={'center':'number of image files for eddy vs noneddy'}>"
      ]
     },
     "execution_count": 11,
     "metadata": {},
     "output_type": "execute_result"
    },
    {
     "data": {
      "image/png": "[encoded data removed]",
      "text/plain": [
       "<Figure size 432x288 with 1 Axes>"
      ]
     },
     "metadata": {
      "needs_background": "light"
     },
     "output_type": "display_data"
    }
   ],
   "source": [
    "x.plot(kind='barh', color = ['b', 'r'], title=\"number of image files for eddy vs noneddy\") ##, ylabel = \"number of files for analysis\""
   ]
  },
  {
   "cell_type": "code",
   "execution_count": 12,
   "id": "327fb9bc",
   "metadata": {},
   "outputs": [],
   "source": [
    "###The stratified k fold cross-validation is an extension of the cross-validation technique used for classification problems. \n",
    "###It maintains the same class ratio throughout the K folds as the ratio in the original dataset."
   ]
  },
  {
   "cell_type": "code",
   "execution_count": 13,
   "id": "81744c13",
   "metadata": {},
   "outputs": [],
   "source": [
    "Y = train_data[['label']]\n",
    "n = len(Y)"
   ]
  },
  {
   "cell_type": "code",
   "execution_count": 74,
   "id": "2a17c128",
   "metadata": {},
   "outputs": [],
   "source": [
    "kf = KFold(n_splits = 5) # , random_state=7, shuffle=True\n",
    "# skf = StratifiedKFold(n_splits = 5, random_state = 7, shuffle = True) \n",
    "batch_size = 8"
   ]
  },
  {
   "cell_type": "code",
   "execution_count": 75,
   "id": "a8d6c8e7",
   "metadata": {},
   "outputs": [],
   "source": [
    "# # this is the augmentation configuration we will use for training\n",
    "idg_train = ImageDataGenerator(\n",
    "        rescale=1./255,\n",
    "        shear_range=0.2,\n",
    "        zoom_range=0.2,\n",
    "        horizontal_flip=False) ## cannot do flip\n",
    "idg_test = ImageDataGenerator(rescale=1./255)"
   ]
  },
  {
   "cell_type": "code",
   "execution_count": 76,
   "id": "68ff8917",
   "metadata": {},
   "outputs": [],
   "source": [
    "def get_model_name(k):\n",
    "    return 'model_'+str(k)+'.h5'"
   ]
  },
  {
   "cell_type": "code",
   "execution_count": 77,
   "id": "fbe442e3",
   "metadata": {},
   "outputs": [],
   "source": [
    "class my_model():\n",
    "    def __init__(self):\n",
    "        super(my_model, self).__init__()\n",
    "\n",
    "        self.model = models.Sequential()\n",
    "        self.model.add(layers.Conv2D(32, (3, 3), activation='relu', input_shape=(256, 256, 1)))\n",
    "        self.model.add(layers.MaxPooling2D((2, 2)))\n",
    "        self.model.add(layers.Conv2D(64, (3, 3), activation='relu'))\n",
    "        self.model.add(layers.MaxPooling2D((2, 2)))\n",
    "        self.model.add(layers.Conv2D(32, (3, 3), activation='relu'))\n",
    "        self.model.add(layers.MaxPooling2D((2, 2)))\n",
    "        self.model.add(layers.Flatten())\n",
    "        self.model.add(layers.Dense(8, activation='relu'))\n",
    "        self.model.add(layers.Dense(1, activation='sigmoid'))\n",
    "        # plot_model(self.model, to_file='model_plot11.png', show_shapes=True, show_layer_names=True)\n",
    "\n",
    "    def create_new_model(self):\n",
    "        return self.model"
   ]
  },
  {
   "cell_type": "code",
   "execution_count": 82,
   "id": "6124d39c",
   "metadata": {},
   "outputs": [
    {
     "name": "stdout",
     "output_type": "stream",
     "text": [
      "Found 60 validated image filenames belonging to 1 classes.\n",
      "Found 15 validated image filenames belonging to 2 classes.\n",
      "Epoch 1/5\n",
      " 8/50 [===>..........................] - ETA: 13s - loss: 0.5055 - accuracy: 0.9333WARNING:tensorflow:Your input ran out of data; interrupting training. Make sure that your dataset or generator can generate at least `steps_per_epoch * epochs` batches (in this case, 250 batches). You may need to use the repeat() function when building your dataset.\n",
      "50/50 [==============================] - 3s 49ms/step - loss: 0.5055 - accuracy: 0.9333 - val_loss: 1.1148 - val_accuracy: 0.5000\n",
      "15/15 [==============================] - 0s 11ms/step - loss: 1.2484 - accuracy: 0.5000\n",
      "0.5\n",
      "Found 60 validated image filenames belonging to 2 classes.\n",
      "Found 15 validated image filenames belonging to 1 classes.\n",
      "Epoch 1/5\n",
      " 8/50 [===>..........................] - ETA: 12s - loss: 0.8582 - accuracy: 0.5000WARNING:tensorflow:Your input ran out of data; interrupting training. Make sure that your dataset or generator can generate at least `steps_per_epoch * epochs` batches (in this case, 250 batches). You may need to use the repeat() function when building your dataset.\n",
      "50/50 [==============================] - 3s 45ms/step - loss: 0.8582 - accuracy: 0.5000 - val_loss: 0.6926 - val_accuracy: 1.0000\n",
      "15/15 [==============================] - 0s 11ms/step - loss: 0.6926 - accuracy: 1.0000\n",
      "1.0\n",
      "Found 60 validated image filenames belonging to 2 classes.\n",
      "Found 15 validated image filenames belonging to 1 classes.\n",
      "Epoch 1/5\n",
      " 8/50 [===>..........................] - ETA: 12s - loss: 0.6931 - accuracy: 0.5000WARNING:tensorflow:Your input ran out of data; interrupting training. Make sure that your dataset or generator can generate at least `steps_per_epoch * epochs` batches (in this case, 250 batches). You may need to use the repeat() function when building your dataset.\n",
      "50/50 [==============================] - 3s 45ms/step - loss: 0.6931 - accuracy: 0.5000 - val_loss: 0.6930 - val_accuracy: 1.0000\n",
      "15/15 [==============================] - 0s 11ms/step - loss: 0.6930 - accuracy: 1.0000\n",
      "1.0\n",
      "Found 60 validated image filenames belonging to 2 classes.\n",
      "Found 15 validated image filenames belonging to 1 classes.\n",
      "Epoch 1/5\n",
      " 8/50 [===>..........................] - ETA: 12s - loss: 0.6931 - accuracy: 0.5000WARNING:tensorflow:Your input ran out of data; interrupting training. Make sure that your dataset or generator can generate at least `steps_per_epoch * epochs` batches (in this case, 250 batches). You may need to use the repeat() function when building your dataset.\n",
      "50/50 [==============================] - 3s 45ms/step - loss: 0.6931 - accuracy: 0.5000 - val_loss: 0.6933 - val_accuracy: 0.0000e+00\n",
      "15/15 [==============================] - 0s 12ms/step - loss: 0.6933 - accuracy: 0.0000e+00\n",
      "0.0\n",
      "Found 60 validated image filenames belonging to 2 classes.\n",
      "Found 15 validated image filenames belonging to 1 classes.\n",
      "Epoch 1/5\n",
      " 8/50 [===>..........................] - ETA: 11s - loss: 0.6931 - accuracy: 0.5000WARNING:tensorflow:Your input ran out of data; interrupting training. Make sure that your dataset or generator can generate at least `steps_per_epoch * epochs` batches (in this case, 250 batches). You may need to use the repeat() function when building your dataset.\n",
      "50/50 [==============================] - 3s 45ms/step - loss: 0.6931 - accuracy: 0.5000 - val_loss: 0.6930 - val_accuracy: 1.0000\n",
      "15/15 [==============================] - 0s 11ms/step - loss: 0.6930 - accuracy: 1.0000\n",
      "1.0\n"
     ]
    }
   ],
   "source": [
    "VALIDATION_ACCURACY = []\n",
    "# VALIDATION_LOSS = []\n",
    "\n",
    "save_dir = '/saved_models/'\n",
    "fold_var = 1\n",
    "\n",
    "model_class = my_model()\n",
    "for train_index, val_index in kf.split(np.zeros(n),Y): ## for stratified use skf instead of kf\n",
    "    training_data = train_data.iloc[train_index]\n",
    "    validation_data = train_data.iloc[val_index]\n",
    "\n",
    "    train_data_generator = idg_train.flow_from_dataframe(training_data.astype(str), directory = './eddy_data_last',\n",
    "                x_col = \"filename\", y_col = \"label\",        \n",
    "                target_size=(256, 256),  \n",
    "                color_mode = 'grayscale',        \n",
    "                batch_size=batch_size,\n",
    "                class_mode = \"categorical\", shuffle = True)\n",
    "\n",
    "    valid_data_generator  = idg_test.flow_from_dataframe(validation_data.astype(str), directory = './eddy_data_last',\n",
    "            x_col = \"filename\", y_col = \"label\",    \n",
    "            target_size=(256, 256),        \n",
    "            color_mode = 'grayscale',        \n",
    "            batch_size=1,        \n",
    "            class_mode='categorical')\n",
    "\n",
    "    # CREATE NEW MODEL\n",
    "    model = model_class.create_new_model()\n",
    "    model.compile(loss='binary_crossentropy', ## squared_hinge or ##hinge ##binary_crossentropy ##sparse_categorical_crossentropy\n",
    "    optimizer='adam', ##'rmsprop', ## sgd\n",
    "    metrics=['accuracy'])\n",
    "\n",
    "    # CREATE CALLBACKS\n",
    "    checkpoint = tf.keras.callbacks.ModelCheckpoint(save_dir+get_model_name(fold_var), \n",
    "            monitor='val_accuracy', verbose=1, \n",
    "            save_best_only=True, mode='max')\n",
    "    callbacks_list = [checkpoint]\n",
    "\n",
    "    history = model.fit(\n",
    "    train_data_generator,\n",
    "    steps_per_epoch = 400 // batch_size,\n",
    "    epochs=5,\n",
    "    validation_data=valid_data_generator,\n",
    "    validation_steps = 40 // batch_size)\n",
    "\n",
    "    results = model.evaluate(valid_data_generator)\n",
    "    results = dict(zip(model.metrics_names,results))\n",
    "    \n",
    "#     print(model.metrics_names)\n",
    "    print(results['accuracy'])\n",
    "    \n",
    "    VALIDATION_ACCURACY.append(results['accuracy'])\n",
    "#     VALIDATION_LOSS.append(results['loss'])\n",
    "        \n",
    "    tf.keras.backend.clear_session()\n",
    "\n",
    "    fold_var += 1"
   ]
  },
  {
   "cell_type": "code",
   "execution_count": 83,
   "id": "94912d5f",
   "metadata": {},
   "outputs": [
    {
     "name": "stdout",
     "output_type": "stream",
     "text": [
      "The average accuracy from all folds is: 70.0%\n"
     ]
    }
   ],
   "source": [
    "avg = sum(VALIDATION_ACCURACY)/5\n",
    "print(\"The average accuracy from all folds is: \"+str(avg*100)+'%')"
   ]
  }
 ],
 "metadata": {
  "kernelspec": {
   "display_name": "conda_amazonei_mxnet_p27",
   "language": "python",
   "name": "conda_amazonei_mxnet_p27"
  },
  "language_info": {
   "codemirror_mode": {
    "name": "ipython",
    "version": 2
   },
   "file_extension": ".py",
   "mimetype": "text/x-python",
   "name": "python",
   "nbconvert_exporter": "python",
   "pygments_lexer": "ipython2",
   "version": "2.7.16"
  }
 },
 "nbformat": 4,
 "nbformat_minor": 5
}
